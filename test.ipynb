{
 "cells": [
  {
   "cell_type": "code",
   "execution_count": 15,
   "id": "e574e0c7",
   "metadata": {},
   "outputs": [],
   "source": [
    "from langchain_community.document_loaders import PyPDFDirectoryLoader, UnstructuredMarkdownLoader, DirectoryLoader\n",
    "from langchain_text_splitters import RecursiveCharacterTextSplitter"
   ]
  },
  {
   "cell_type": "code",
   "execution_count": 2,
   "id": "fc7b8a9a",
   "metadata": {},
   "outputs": [],
   "source": [
    "DATA_PATH = \"Knowledge_data\""
   ]
  },
  {
   "cell_type": "code",
   "execution_count": 3,
   "id": "2720f34b",
   "metadata": {},
   "outputs": [],
   "source": [
    "document_loader = PyPDFDirectoryLoader(DATA_PATH)"
   ]
  },
  {
   "cell_type": "code",
   "execution_count": 5,
   "id": "b5cf22d0",
   "metadata": {},
   "outputs": [],
   "source": [
    "document = document_loader.load()"
   ]
  },
  {
   "cell_type": "code",
   "execution_count": 10,
   "id": "ab375903",
   "metadata": {},
   "outputs": [
    {
     "data": {
      "text/plain": [
       "{'id': None,\n",
       " 'metadata': {'producer': 'Acrobat Distiller 9.5.5 (Macintosh)',\n",
       "  'creator': 'QuarkXPress 9.5.3.1',\n",
       "  'creationdate': '2015-03-09T10:16:51-07:00',\n",
       "  'author': 'cyrille',\n",
       "  'gts_pdfxversion': 'PDF/X-3:2002',\n",
       "  'moddate': '2015-05-18T11:25:26-07:00',\n",
       "  'title': '[T2R] rules EN reprint 2015_TTR2 rules US',\n",
       "  'trapped': '/False',\n",
       "  'source': 'data/ticket_to_ride.pdf',\n",
       "  'total_pages': 4,\n",
       "  'page': 0,\n",
       "  'page_label': '1'},\n",
       " 'page_content': 'O\\nn a blustery autumn evening five old friends met in the backroom of one of the city’s oldest and most private clubs. Each had\\ntraveled a long distance — from all corners of the world — to meet on this very specific day… October 2, 1900 — 28 years to the\\nday that the London eccentric, Phileas Fogg accepted and then won a £20,000 bet that he could travel Around the World in 80 Days . \\nWhen the story of Fogg’s triumphant journey filled all the newspapers of the day, the five attended University together. Inspired by\\nhis impetuous gamble, and a few pints from the local pub, the group commemorated his circumnavigation with a more modest excur-\\nsion and wager – a bottle of good claret to the first to make it to Le Procope in Paris.\\nEach succeeding year, they met to celebrate the anniversary and pay tribute to Fogg. And each year a new expedition (always mor e\\ndifficult) with a new wager (always more expensive) was proposed. Now at the dawn of the century it was time for a new impossi-\\nble journey. The stakes: $1 Million in a winner-takes-all competition. The objective: to see which of them could travel by rail to the\\nmost cities in North America — in just 7 days. The journey would begin immediately…\\nTicket to Ride is a cross-country train adventure. Players compete to connect different cities by laying claim to railway routes on a\\nmap of North America.\\nFor 2 - 5 players \\nages 8 and above\\n30 - 60 minutes\\n[T2R] rules EN reprint 2015_TTR2 rules US  06/03/15  17:36  Page2',\n",
       " 'type': 'Document'}"
      ]
     },
     "execution_count": 10,
     "metadata": {},
     "output_type": "execute_result"
    }
   ],
   "source": [
    "document[0].__dict__"
   ]
  },
  {
   "cell_type": "code",
   "execution_count": 41,
   "id": "b48fbc28",
   "metadata": {},
   "outputs": [
    {
     "name": "stdout",
     "output_type": "stream",
     "text": [
      "O\n",
      "n a blustery autumn evening five old friends met in the backroom of one of the city’s oldest and most private clubs. Each had\n",
      "traveled a long distance — from all corners of the world — to meet on this very specific day… October 2, 1900 — 28 years to the\n",
      "day that the London eccentric, Phileas Fogg accepted and then won a £20,000 bet that he could travel Around the World in 80 Days . \n",
      "When the story of Fogg’s triumphant journey filled all the newspapers of the day, the five attended University together. Inspired by\n",
      "his impetuous gamble, and a few pints from the local pub, the group commemorated his circumnavigation with a more modest excur-\n",
      "sion and wager – a bottle of good claret to the first to make it to Le Procope in Paris.\n",
      "Each succeeding year, they met to celebrate the anniversary and pay tribute to Fogg. And each year a new expedition (always mor e\n",
      "difficult) with a new wager (always more expensive) was proposed. Now at the dawn of the century it was time for a new impossi-\n",
      "ble journey. The stakes: $1 Million in a winner-takes-all competition. The objective: to see which of them could travel by rail to the\n",
      "most cities in North America — in just 7 days. The journey would begin immediately…\n",
      "Ticket to Ride is a cross-country train adventure. Players compete to connect different cities by laying claim to railway routes on a\n",
      "map of North America.\n",
      "For 2 - 5 players \n",
      "ages 8 and above\n",
      "30 - 60 minutes\n",
      "[T2R] rules EN reprint 2015_TTR2 rules US  06/03/15  17:36  Page2\n"
     ]
    }
   ],
   "source": [
    "print(document[0].page_content)"
   ]
  },
  {
   "cell_type": "code",
   "execution_count": 56,
   "id": "b99a3239",
   "metadata": {},
   "outputs": [],
   "source": [
    "text_splitter = RecursiveCharacterTextSplitter(\n",
    "        chunk_size=800,\n",
    "        chunk_overlap=80,\n",
    "        length_function=len,\n",
    "        is_separator_regex=False,\n",
    "    )"
   ]
  },
  {
   "cell_type": "code",
   "execution_count": 57,
   "id": "4635f3d1",
   "metadata": {},
   "outputs": [],
   "source": [
    "chunk = text_splitter.split_documents(document)"
   ]
  },
  {
   "cell_type": "code",
   "execution_count": 73,
   "id": "434cd897",
   "metadata": {},
   "outputs": [
    {
     "data": {
      "text/plain": [
       "[Document(metadata={'producer': 'Acrobat Distiller 9.5.5 (Macintosh)', 'creator': 'QuarkXPress 9.5.3.1', 'creationdate': '2015-03-09T10:16:51-07:00', 'author': 'cyrille', 'gts_pdfxversion': 'PDF/X-3:2002', 'moddate': '2015-05-18T11:25:26-07:00', 'title': '[T2R] rules EN reprint 2015_TTR2 rules US', 'trapped': '/False', 'source': 'data/ticket_to_ride.pdf', 'total_pages': 4, 'page': 0, 'page_label': '1'}, page_content='O\\nn a blustery autumn evening five old friends met in the backroom of one of the city’s oldest and most private clubs. Each had\\ntraveled a long distance — from all corners of the world — to meet on this very specific day… October 2, 1900 — 28 years to the\\nday that the London eccentric, Phileas Fogg accepted and then won a £20,000 bet that he could travel Around the World in 80 Days . \\nWhen the story of Fogg’s triumphant journey filled all the newspapers of the day, the five attended University together. Inspired by\\nhis impetuous gamble, and a few pints from the local pub, the group commemorated his circumnavigation with a more modest excur-\\nsion and wager – a bottle of good claret to the first to make it to Le Procope in Paris.'),\n",
       " Document(metadata={'producer': 'Acrobat Distiller 9.5.5 (Macintosh)', 'creator': 'QuarkXPress 9.5.3.1', 'creationdate': '2015-03-09T10:16:51-07:00', 'author': 'cyrille', 'gts_pdfxversion': 'PDF/X-3:2002', 'moddate': '2015-05-18T11:25:26-07:00', 'title': '[T2R] rules EN reprint 2015_TTR2 rules US', 'trapped': '/False', 'source': 'data/ticket_to_ride.pdf', 'total_pages': 4, 'page': 0, 'page_label': '1'}, page_content='Each succeeding year, they met to celebrate the anniversary and pay tribute to Fogg. And each year a new expedition (always mor e\\ndifficult) with a new wager (always more expensive) was proposed. Now at the dawn of the century it was time for a new impossi-\\nble journey. The stakes: $1 Million in a winner-takes-all competition. The objective: to see which of them could travel by rail to the\\nmost cities in North America — in just 7 days. The journey would begin immediately…\\nTicket to Ride is a cross-country train adventure. Players compete to connect different cities by laying claim to railway routes on a\\nmap of North America.\\nFor 2 - 5 players \\nages 8 and above\\n30 - 60 minutes\\n[T2R] rules EN reprint 2015_TTR2 rules US  06/03/15  17:36  Page2'),\n",
       " Document(metadata={'producer': 'Acrobat Distiller 9.5.5 (Macintosh)', 'creator': 'QuarkXPress 9.5.3.1', 'creationdate': '2015-03-09T10:16:51-07:00', 'author': 'cyrille', 'gts_pdfxversion': 'PDF/X-3:2002', 'moddate': '2015-05-18T11:25:26-07:00', 'title': '[T2R] rules EN reprint 2015_TTR2 rules US', 'trapped': '/False', 'source': 'data/ticket_to_ride.pdf', 'total_pages': 4, 'page': 1, 'page_label': '2'}, page_content='Components \\nu 1 Board map of North American train routes\\nu 240 Colored Train Cars (45 each in Blue, Red, Green, Yellow and Black, plus some extra replacement cars in each color)\\nu 144 Illustrated cards:\\n- 1 Promotional card for additional maps\\n- 1 Days of Wonder Promotional card\\nu  5 Wooden Scoring Markers (1 for each player in Blue, Red, Green, Yellow \\nand Black)\\nu  1 Rules booklet\\nu  1 Days of Wonder Online access number\\nSetting up the Game\\nPlace the board map in the center of the table. Each player takes a set of 45 Colored\\nTrain Cars along with its matching Scoring Marker. Each player places his Scoring\\nMarker on Start ∂on the Scoring Track running along the map’s border. Throughout\\nthe game, each time a player scores points, he will advance his marker accordingly.'),\n",
       " Document(metadata={'producer': 'Acrobat Distiller 9.5.5 (Macintosh)', 'creator': 'QuarkXPress 9.5.3.1', 'creationdate': '2015-03-09T10:16:51-07:00', 'author': 'cyrille', 'gts_pdfxversion': 'PDF/X-3:2002', 'moddate': '2015-05-18T11:25:26-07:00', 'title': '[T2R] rules EN reprint 2015_TTR2 rules US', 'trapped': '/False', 'source': 'data/ticket_to_ride.pdf', 'total_pages': 4, 'page': 1, 'page_label': '2'}, page_content='Shuffle the Train Car cards and deal a starting hand of 4 cards to each player ∑.\\nPlace the remaining deck of Train Car cards near the board and turn the top five cards\\nfrom the deck face-up ∏.\\nPlace the Longest Path Bonus card face up next to the board π. \\nShuffle the Destination Ticket cards and deal 3 cards to each player ∫. Each player\\nlooks at their Destination Tickets and decides which ones they wish to keep. A player\\nmust keep at least two, but may keep all three if he chooses. Any returned cards are\\nplaced on the bottom of the Destination Ticket deck. This deck is then placed next to the\\nboard ª. Players keep their Destination Tickets secret until the end of the game.\\nYou are now ready to begin.\\nObject of the Game'),\n",
       " Document(metadata={'producer': 'Acrobat Distiller 9.5.5 (Macintosh)', 'creator': 'QuarkXPress 9.5.3.1', 'creationdate': '2015-03-09T10:16:51-07:00', 'author': 'cyrille', 'gts_pdfxversion': 'PDF/X-3:2002', 'moddate': '2015-05-18T11:25:26-07:00', 'title': '[T2R] rules EN reprint 2015_TTR2 rules US', 'trapped': '/False', 'source': 'data/ticket_to_ride.pdf', 'total_pages': 4, 'page': 1, 'page_label': '2'}, page_content='You are now ready to begin.\\nObject of the Game \\nThe object of the game is to score the highest number of total points. Points can be\\nscored by: \\nu Claiming a Route between two adjacent cities on the map; \\nu Successfully completing a Continuous Path of routes between two cities listed on your Destination Ticket(s);\\nu Completing the Longest Continuous Path of routes.\\nPoints are lost if you do not successfully complete the route given on the Destination Ticket(s) you kept.\\nT he Game T urn\\nThe player who is the most experienced traveler goes first. Play then proceeds clockwise around the table, each player taking one turn at a time until\\nthe game ends. On his turn, a player must perform one (and only one) of the following three actions:\\n∂\\n∑∫\\n∑\\n∫\\n∑ ∫'),\n",
       " Document(metadata={'producer': 'Acrobat Distiller 9.5.5 (Macintosh)', 'creator': 'QuarkXPress 9.5.3.1', 'creationdate': '2015-03-09T10:16:51-07:00', 'author': 'cyrille', 'gts_pdfxversion': 'PDF/X-3:2002', 'moddate': '2015-05-18T11:25:26-07:00', 'title': '[T2R] rules EN reprint 2015_TTR2 rules US', 'trapped': '/False', 'source': 'data/ticket_to_ride.pdf', 'total_pages': 4, 'page': 1, 'page_label': '2'}, page_content='∂\\n∑∫\\n∑\\n∫\\n∑ ∫\\n110 Train Car cards (12 each of Box, Passenger, Tanker, Reefer, Freight, Hopper, Coal, and Caboose cars, plus 14 Locomotives)\\n30 Destination Ticket cards\\n1 Summary\\ncard\\n1 Longest Continuous Path\\nBonus card\\n[T2R] rules EN reprint 2015_TTR2 rules US  06/03/15  17:36  Page3'),\n",
       " Document(metadata={'producer': 'Acrobat Distiller 9.5.5 (Macintosh)', 'creator': 'QuarkXPress 9.5.3.1', 'creationdate': '2015-03-09T10:16:51-07:00', 'author': 'cyrille', 'gts_pdfxversion': 'PDF/X-3:2002', 'moddate': '2015-05-18T11:25:26-07:00', 'title': '[T2R] rules EN reprint 2015_TTR2 rules US', 'trapped': '/False', 'source': 'data/ticket_to_ride.pdf', 'total_pages': 4, 'page': 2, 'page_label': '3'}, page_content='Draw Train Car Cards – The player may draw 2 Train Car cards. He may take any one of the face-up cards or he may draw the top card from the\\ndeck (this is a blind draw). If he draws a face up card, he immediately turns a replacement card face-up from the deck. He then draws his second\\ncard, either from the face up cards or from the top of the deck. (See Train Car Cards for special rules for Locomotive cards).\\nClaim a Route – The player may claim a route on the board by playing a set of Train Car cards that match the color and length of the route and\\nthen placing one of his colored trains on each space of this route. He then records his score by moving his Scoring Marker the appropriate number\\nof spaces (see Route Scoring Table) along the Scoring Track on the board.'),\n",
       " Document(metadata={'producer': 'Acrobat Distiller 9.5.5 (Macintosh)', 'creator': 'QuarkXPress 9.5.3.1', 'creationdate': '2015-03-09T10:16:51-07:00', 'author': 'cyrille', 'gts_pdfxversion': 'PDF/X-3:2002', 'moddate': '2015-05-18T11:25:26-07:00', 'title': '[T2R] rules EN reprint 2015_TTR2 rules US', 'trapped': '/False', 'source': 'data/ticket_to_ride.pdf', 'total_pages': 4, 'page': 2, 'page_label': '3'}, page_content='of spaces (see Route Scoring Table) along the Scoring Track on the board.\\nDraw Destination Tickets –The player draws 3 Destination Tickets from the top of the deck. He must keep at least one of them, but he may keep\\ntwo or all three if he chooses. Any returned cards are placed on the bottom of the deck.\\nT rain Car Cards\\nThere are 8 types of regular Train Car cards, plus Locomotive cars. The colors of each type of Train Car card match various routes\\nbetween cities on the board – Purple, Blue, Orange, White, Green, Yellow, Black, and\\nRed. \\nLocomotives are Multi-colored and act as a wild card that can be part of any set of\\ncards when claiming a route. If a Locomotive card is one of the five face-up cards, the'),\n",
       " Document(metadata={'producer': 'Acrobat Distiller 9.5.5 (Macintosh)', 'creator': 'QuarkXPress 9.5.3.1', 'creationdate': '2015-03-09T10:16:51-07:00', 'author': 'cyrille', 'gts_pdfxversion': 'PDF/X-3:2002', 'moddate': '2015-05-18T11:25:26-07:00', 'title': '[T2R] rules EN reprint 2015_TTR2 rules US', 'trapped': '/False', 'source': 'data/ticket_to_ride.pdf', 'total_pages': 4, 'page': 2, 'page_label': '3'}, page_content='player who draws it may only draw one card, instead of two. If, after having drawn one\\ncard the replacement card is a Locomotive, the player cannot take it. If at any time, three\\nof the five face-up cards are Locomotives, all five cards are immediately discarded and\\nfive new ones are turned face-up to replace them. \\nNote: If a player is lucky enough to get a Locomotive from the top of the deck in a blind\\ndraw, it stills counts as a single card and he may still draw a total of two cards that turn.\\nA player may have any number of cards in his hand at any time.\\nWhen the deck is exhausted, the discards are reshuffled into a new draw pile deck. The\\ncards should be shuffled thoroughly, since all the cards have been discarded in sets.'),\n",
       " Document(metadata={'producer': 'Acrobat Distiller 9.5.5 (Macintosh)', 'creator': 'QuarkXPress 9.5.3.1', 'creationdate': '2015-03-09T10:16:51-07:00', 'author': 'cyrille', 'gts_pdfxversion': 'PDF/X-3:2002', 'moddate': '2015-05-18T11:25:26-07:00', 'title': '[T2R] rules EN reprint 2015_TTR2 rules US', 'trapped': '/False', 'source': 'data/ticket_to_ride.pdf', 'total_pages': 4, 'page': 2, 'page_label': '3'}, page_content='In the unlikely event that there are no cards left in the deck and there are no discards\\n(because players are hoarding many cards in their hands), a player cannot draw Train\\nCar cards. Instead he may only claim a route or draw Destination Ticket cards.\\nClaiming Routes\\nTo claim a route, a player must play a set of cards equal to the number of spaces in the\\nroute. A set of cards must be of the same type. Most routes require a specific type of set.\\nFor example a Blue route must be claimed using blue-colored Passenger Car cards. Some\\nroutes – those that are Gray colored – can be claimed using a set of cards of any one color.\\nWhen a route is claimed, the player places one of his plastic trains in each of the spaces'),\n",
       " Document(metadata={'producer': 'Acrobat Distiller 9.5.5 (Macintosh)', 'creator': 'QuarkXPress 9.5.3.1', 'creationdate': '2015-03-09T10:16:51-07:00', 'author': 'cyrille', 'gts_pdfxversion': 'PDF/X-3:2002', 'moddate': '2015-05-18T11:25:26-07:00', 'title': '[T2R] rules EN reprint 2015_TTR2 rules US', 'trapped': '/False', 'source': 'data/ticket_to_ride.pdf', 'total_pages': 4, 'page': 2, 'page_label': '3'}, page_content='of the route. All the cards in the set used to claim the route are then discarded.\\nA player may claim any open route on the board. He is never required to\\nconnect to any of his previously played routes. A player may only claim\\na maximum of one route, hence connect two adjacent cities, never more,\\non his turn.\\nSome cities are connected by Double-Routes . One player cannot claim\\nboth routes to the same cities. \\nImportant Note:In 2 or 3 player games, only one of the Double-Routes\\ncan be used. A player can claim either of the two routes between cities, but\\nthe other route is then closed to other players.\\n∫ ∑\\n∑\\n∫\\nπ\\n∏ ª\\nTo claim the route from Montréal \\nto Toronto, a player could use any\\nset of Train Car cards, as a long \\nas they are the same type.\\nExample 2\\nTo claim the route from Montréal'),\n",
       " Document(metadata={'producer': 'Acrobat Distiller 9.5.5 (Macintosh)', 'creator': 'QuarkXPress 9.5.3.1', 'creationdate': '2015-03-09T10:16:51-07:00', 'author': 'cyrille', 'gts_pdfxversion': 'PDF/X-3:2002', 'moddate': '2015-05-18T11:25:26-07:00', 'title': '[T2R] rules EN reprint 2015_TTR2 rules US', 'trapped': '/False', 'source': 'data/ticket_to_ride.pdf', 'total_pages': 4, 'page': 2, 'page_label': '3'}, page_content='as they are the same type.\\nExample 2\\nTo claim the route from Montréal\\nto New York, a player would need \\na set of three Blue Passenger \\nCar cards. \\nExample 1\\n[T2R] rules EN reprint 2015_TTR2 rules US  06/03/15  17:36  Page4'),\n",
       " Document(metadata={'producer': 'Acrobat Distiller 9.5.5 (Macintosh)', 'creator': 'QuarkXPress 9.5.3.1', 'creationdate': '2015-03-09T10:16:51-07:00', 'author': 'cyrille', 'gts_pdfxversion': 'PDF/X-3:2002', 'moddate': '2015-05-18T11:25:26-07:00', 'title': '[T2R] rules EN reprint 2015_TTR2 rules US', 'trapped': '/False', 'source': 'data/ticket_to_ride.pdf', 'total_pages': 4, 'page': 3, 'page_label': '4'}, page_content='Route Scoring T able\\nWhen a player claims a route, he records the points he receives by\\nmoving his Scoring Marker on the Scoring Track:\\nDrawing Destination T icket Cards\\nA player can use his turn to draw more Destination Ticket cards. To do so, he draws 3 new cards from the top of the Destination Ticket Deck. He must\\nkeep at least one of the cards, but may also keep two or all three if he chooses. If there are less than 3 Destination Tickets left in the deck, the player\\nonly draws the cards that are available. Any returned cards are placed on the bottom of the Destination Ticket Deck.\\nEach Destination Ticket includes the name of two cities on the map and a Point Value. If a player successfully completes a series of routes that connect'),\n",
       " Document(metadata={'producer': 'Acrobat Distiller 9.5.5 (Macintosh)', 'creator': 'QuarkXPress 9.5.3.1', 'creationdate': '2015-03-09T10:16:51-07:00', 'author': 'cyrille', 'gts_pdfxversion': 'PDF/X-3:2002', 'moddate': '2015-05-18T11:25:26-07:00', 'title': '[T2R] rules EN reprint 2015_TTR2 rules US', 'trapped': '/False', 'source': 'data/ticket_to_ride.pdf', 'total_pages': 4, 'page': 3, 'page_label': '4'}, page_content=\"the two cities, they will add the amount of points indicated on the Destination Ticket to their point totals at the end of the game. If they do not\\nsuccessfully connect the two cities, they deduct the amount of points indicated.\\nDestination Tickets are kept secret from other players until the game's final scoring. A player may have any number of Destination Ticket cards during\\nthe game.\\nGame End\\nWhen one player’s stock of colored plastic trains gets down to only 0,1 or 2 trains left at the end of his turn, each player, including that player, gets\\none final turn. The game then ends and players calculate their final scores. \\nCalculating Scores\\nPlayers should have already accounted for the points earned as they completed different routes. To make sure no mistakes were made, you may\"),\n",
       " Document(metadata={'producer': 'Acrobat Distiller 9.5.5 (Macintosh)', 'creator': 'QuarkXPress 9.5.3.1', 'creationdate': '2015-03-09T10:16:51-07:00', 'author': 'cyrille', 'gts_pdfxversion': 'PDF/X-3:2002', 'moddate': '2015-05-18T11:25:26-07:00', 'title': '[T2R] rules EN reprint 2015_TTR2 rules US', 'trapped': '/False', 'source': 'data/ticket_to_ride.pdf', 'total_pages': 4, 'page': 3, 'page_label': '4'}, page_content='want to re-count the points for each player’s routes.\\nPlayers should then reveal all their Destination Tickets and add (or subtract) the value of their Destination Tickets still in hand, based on whether\\nthey successfully (or not) connected those cities together.\\nThe player who has the Longest Continuous Path of routes receives this special bonus card and adds 10 points to his score. When evaluating and\\ncomparing path lengths, only take into account continuous lines of plastic trains of the same color. A continuous path may include loops, and pass\\nthrough the same city several times, but a given plastic train may never be used twice in the same continuous path. In the case of a tie for the longest\\npath, all tied players score the 10 point bonus.'),\n",
       " Document(metadata={'producer': 'Acrobat Distiller 9.5.5 (Macintosh)', 'creator': 'QuarkXPress 9.5.3.1', 'creationdate': '2015-03-09T10:16:51-07:00', 'author': 'cyrille', 'gts_pdfxversion': 'PDF/X-3:2002', 'moddate': '2015-05-18T11:25:26-07:00', 'title': '[T2R] rules EN reprint 2015_TTR2 rules US', 'trapped': '/False', 'source': 'data/ticket_to_ride.pdf', 'total_pages': 4, 'page': 3, 'page_label': '4'}, page_content='path, all tied players score the 10 point bonus.\\nThe player with the most points wins the game. If two or more players are tied for the most points, the player who has completed the most Destination\\nTickets wins. In the unlikely event that they are still tied, the player with the Longest Continuous Path card wins.\\n1\\nRoute Length Points Scored\\n2\\n3\\n4\\n5\\n6\\n1\\n2\\n4\\n7\\n10\\n15\\nCREDITS\\nGame design by Alan R. Moon \\nIllustrations by Julien Delval\\nGraphic Design by Cyrille Daujean \\nA special thanks from Alan and DoW to all \\nthose who helped play test the game: \\nPhil Alberg, Buzz Aldrich, Dave & Jenn Bernazzani, \\nPitt Crandlemire, Terry Egan, Brian Fealy, Dave Fontes,\\nMatt Horn, Craig Massey,  Janet Moon, \\nMark Noseworthy, Mike Schloth, Eric Schultz, \\nScott Simon, Rob Simons, Adam Smiles, Tony Soltis,'),\n",
       " Document(metadata={'producer': 'Acrobat Distiller 9.5.5 (Macintosh)', 'creator': 'QuarkXPress 9.5.3.1', 'creationdate': '2015-03-09T10:16:51-07:00', 'author': 'cyrille', 'gts_pdfxversion': 'PDF/X-3:2002', 'moddate': '2015-05-18T11:25:26-07:00', 'title': '[T2R] rules EN reprint 2015_TTR2 rules US', 'trapped': '/False', 'source': 'data/ticket_to_ride.pdf', 'total_pages': 4, 'page': 3, 'page_label': '4'}, page_content='Scott Simon, Rob Simons, Adam Smiles, Tony Soltis, \\nRichard Spoonts, Brian Stormont, Rick Thornquist\\nDays of Wonder, the Days of Wonder logo, Ticket to Ride - \\nthe boardgame and Ticket to Ride Europe are all trademarks or \\nregistered trademarks of Days of Wonder, Inc. and copyrights © \\n2004-2015 Days of Wonder, Inc. All Rights Reserved.\\nWWW.DAYSOFWONDER.COM\\nRegister your boardgame\\nDays of Wonder Online \\nHere is your train ticket to Days of Wonder\\nOnline - The online board game\\ncommunity where ALL your friends play!\\nRegister your game at\\nwww.daysofwonder.comto receive online\\ndiscounts and discover a web site full of\\ngame variants, additional maps and more.\\nSimply click on the New Playerbutton\\nand follow the instructions.\\n[T2R] rules EN reprint 2015_TTR2 rules US  06/03/15  17:36  Page1'),\n",
       " Document(metadata={'producer': 'Adobe Acrobat 7.0 Paper Capture Plug-in', 'creator': 'Adobe Acrobat 7.0', 'creationdate': '2007-05-03T12:38:10-04:00', 'moddate': '2007-05-03T12:52:41-04:00', 'source': 'data/monopoly.pdf', 'total_pages': 8, 'page': 0, 'page_label': '1'}, page_content='MONOPOLY \\nProperty Trading Game from Parker Brothers\" \\nAGES 8+ \\n2 to 8 Players \\nContents: Gameboard, 3 dice, tokens, 32 houses, I2 hotels, Chance \\nand Community Chest cards, Title Deed cards, play money and a Banker\\'s tray. \\nNow there\\'s a faster way to play MONOPOLY. Choose to play by \\nthe classic rules for buying, renting and selling properties or use the \\nSpeed Die to get into the action faster. If you\\'ve never played the classic \\nMONOPOLY game, refer to the Classic Rules beginning on the next page. \\nIf you already know how to play and want to use the Speed Die, just \\nread the section below for the additional Speed Die rules. \\nSPEED DIE RULES \\nLearnins how to Play with the S~eed Die IS as \\n/ \\nfast as playing with i\\'t. \\n1. When starting the game, hand out an extra $1,000 to each player'),\n",
       " Document(metadata={'producer': 'Adobe Acrobat 7.0 Paper Capture Plug-in', 'creator': 'Adobe Acrobat 7.0', 'creationdate': '2007-05-03T12:38:10-04:00', 'moddate': '2007-05-03T12:52:41-04:00', 'source': 'data/monopoly.pdf', 'total_pages': 8, 'page': 0, 'page_label': '1'}, page_content=\"1. When starting the game, hand out an extra $1,000 to each player \\n(two $5005 should work). The game moves fast and you'll need \\nthe extra cash to buy and build. \\n2. Do not use the Speed Die until you've landed on or passed over \\nGO for the first time. Once you collect that first $200 salary, you'll \\nuse the Speed Die for the rest of the game. This means that some \\nplayers will start using the die before others. \\n3. Once you start using the Speed Die, roll it along with the two \\nwhite dice on your turn. Then do the following depending on \\nwhat you rolled. \\n1, 2, or 3: Add this number to the roll of the two white \\ndice. You'll zoom around the board.\"),\n",
       " Document(metadata={'producer': 'Adobe Acrobat 7.0 Paper Capture Plug-in', 'creator': 'Adobe Acrobat 7.0', 'creationdate': '2007-05-03T12:38:10-04:00', 'moddate': '2007-05-03T12:52:41-04:00', 'source': 'data/monopoly.pdf', 'total_pages': 8, 'page': 1, 'page_label': '2'}, page_content='Bus: This lets you \"get off the bus early.\" Look at the two white \\ndice. You can move the value of one die, the other die, or the \\nsum of both dice. So if you rolled a 1 and a 5, you can move \\n1 space, 5 spaces, or 6 spaces: \\\\t\\'s your choice. \\nMr. Monopoly: First, move the sum of the two white dice \\nand resolve the space you land on (such as drawing a card, \\nbuying the property, paying rent, etc.). Then, one of two \\nthings will happen depending on whether or not there is still \\nproperty in the bank. \\nYES, there is property in the bank -Advance to the NEXT \\nproperty that the bank still holds and buy it if you wish. If you \\ndon\\'t want to buy this property, move to the space anyway \\nand put the property up for auction. \\nNO, there are no more properties in the bank - Advance to the'),\n",
       " Document(metadata={'producer': 'Adobe Acrobat 7.0 Paper Capture Plug-in', 'creator': 'Adobe Acrobat 7.0', 'creationdate': '2007-05-03T12:38:10-04:00', 'moddate': '2007-05-03T12:52:41-04:00', 'source': 'data/monopoly.pdf', 'total_pages': 8, 'page': 1, 'page_label': '2'}, page_content='NO, there are no more properties in the bank - Advance to the \\nNOCT property on which you will owe another player money. \\nA few minor details: \\nOnly the white dice are used when determining if you rolled doubles. \\nDo not look at the Speed Die. \\nIf you roll a three-of-a-kind (all of the dice show the same number), \\nyou can move anywhere you want on the board! \\nIf you get sent to jail during your move (either by landing on the \"Go \\nto Jail\" space or by rolling doubles three times in a row) then your turn \\nis over and you do not get to use the Speed Die for that turn. \\nUse the white dice ONLY when rolling to get out of jail. \\nL \\nUse the sum of all three dice when determining how much to pay on \\na utility. Note: The Bus and Mr. Monopoly are valued at 0. \\nCLASSIC MONOPOW RULES'),\n",
       " Document(metadata={'producer': 'Adobe Acrobat 7.0 Paper Capture Plug-in', 'creator': 'Adobe Acrobat 7.0', 'creationdate': '2007-05-03T12:38:10-04:00', 'moddate': '2007-05-03T12:52:41-04:00', 'source': 'data/monopoly.pdf', 'total_pages': 8, 'page': 1, 'page_label': '2'}, page_content='CLASSIC MONOPOW RULES \\nOBJECT: The object of the game IS to become the \\nwealthiest player through buying, renting and selling \\nproperty. \\nPREPARATION: Place the board on a table and put \\nthe Chance and Community Chest cards facedown on \\ntheir allotted spaces on the board. Each player chooses one token to \\nrepresent himther while traveling around the board.'),\n",
       " Document(metadata={'producer': 'Adobe Acrobat 7.0 Paper Capture Plug-in', 'creator': 'Adobe Acrobat 7.0', 'creationdate': '2007-05-03T12:38:10-04:00', 'moddate': '2007-05-03T12:52:41-04:00', 'source': 'data/monopoly.pdf', 'total_pages': 8, 'page': 2, 'page_label': '3'}, page_content=\"Each player is given $1,500 divided as follows: P each of $500s, \\n$100~ and $50~; 6 $40~; 5 each of $105, $5~ and $Is. \\nAll remaining money and other equipment go to the Bank. Stack the .. \\nBank's money on edge in the compartments in the plastic Banker's tray. \\nBANKER. Select as Banker a player who will also \\nmake a good Auctioneer A Banker who plays \\n~n the game must keep hislher personal funds \\nseparate from those of the Bank. When more than \\nf~ve persons play, the Banker may elect to act only \\nas Banker and Auctioneer. \\nTHE BANK: Besides the Bank's money, the Bank \\nholds the Title Deed cards and houses and hotels prior to purchase \\nand use by the players. The Bank pays salaries and bonuses. It sells \\nand auctions properties and hands out the~r proper Title Deed cards;\"),\n",
       " Document(metadata={'producer': 'Adobe Acrobat 7.0 Paper Capture Plug-in', 'creator': 'Adobe Acrobat 7.0', 'creationdate': '2007-05-03T12:38:10-04:00', 'moddate': '2007-05-03T12:52:41-04:00', 'source': 'data/monopoly.pdf', 'total_pages': 8, 'page': 2, 'page_label': '3'}, page_content='and auctions properties and hands out the~r proper Title Deed cards; \\nit sells houses and hotels to the players and loans money when \\nrequired on mortgages. \\nThe Bank collects all taxes, fines, loans and interest, and the price of \\nall properties which it sells and auctions. \\nThe Bank nwer \"goes broke.\" If the Bank runs out of money, the Banker \\nmay issue as much more as needed by writing on any ordinary paper. \\nTHE PLAY: Starting with the Banker, each player in turn throws the dice. \\nThe player with the highest total starts the play: Place your \\ntoken on the corner marked \"GO,\" throw the dice and move \\nyour token in the direction of the arrow the number of \\nspaces indicated by the dice. After you have completed \\nyour play, the turn passes to the left. The tokens remain'),\n",
       " Document(metadata={'producer': 'Adobe Acrobat 7.0 Paper Capture Plug-in', 'creator': 'Adobe Acrobat 7.0', 'creationdate': '2007-05-03T12:38:10-04:00', 'moddate': '2007-05-03T12:52:41-04:00', 'source': 'data/monopoly.pdf', 'total_pages': 8, 'page': 2, 'page_label': '3'}, page_content='your play, the turn passes to the left. The tokens remain \\non the spaces qccupied and proceed from that point on \\nthe player\\'s next turn. Two or more tokens may rest on the \\nsame space at the same time. \\nAccording to the space your token reaches, you may be entitled to \\nbuy real estate or other properties - or obliged to pay rent, pay taxes, \\ndraw a Chance or Community Chest card, \"Go to Jail,\" etc. \\nIf you throw doubles, you move your token as usual, the sum of the \\ntwo dice, and are subject to any privileges or penalties pertaining to \\nthe space on which you land. Retaining the dice, throw again and move \\nyour token as before. If you throw doubles three times in succession, \\nmove your token immediately to the space marked \"In Jail\" (see JAIL).'),\n",
       " Document(metadata={'producer': 'Adobe Acrobat 7.0 Paper Capture Plug-in', 'creator': 'Adobe Acrobat 7.0', 'creationdate': '2007-05-03T12:38:10-04:00', 'moddate': '2007-05-03T12:52:41-04:00', 'source': 'data/monopoly.pdf', 'total_pages': 8, 'page': 3, 'page_label': '4'}, page_content='\"GO\": Each time a player\\'s token lands on or passes over \\nGO, whether by throwing the dice or drawing a card, \\nthe Banker pays himther a $200 sala,ry. \\nThe $200 is paid only once each time kound \\nthe board. However, if a player passing GO on \\nthe throw of the dice lands 2 spaces beyond it \\non Community Chest, or 7 spaces beyond \\nit on Chance, and draws the \"Advance to GO\" card, helshe collects \\n$200 for passing GO the first time and another $200 for reaching it the \\nsecond time by instructions on the card. \\nBUYING PROPERTY: Whenever you land on an unowned property you \\nmay buy that property from the Bank at its printed price. You receive the \\nTitle Deed card showing ownership; place it faceup in front of you. \\nIf you do not wish to buy the property, the Banker sells it at auction'),\n",
       " Document(metadata={'producer': 'Adobe Acrobat 7.0 Paper Capture Plug-in', 'creator': 'Adobe Acrobat 7.0', 'creationdate': '2007-05-03T12:38:10-04:00', 'moddate': '2007-05-03T12:52:41-04:00', 'source': 'data/monopoly.pdf', 'total_pages': 8, 'page': 3, 'page_label': '4'}, page_content='If you do not wish to buy the property, the Banker sells it at auction \\nto the highest bidder. The buyer pays the Bank the amount of the bid \\nin cash and receives the Title Deed card for that property. Any player, \\nincluding the one who declined the option to buy it at the printed \\nprice, may bid. Bidding may start at any price. \\nPAMNG \\n When you land on property owned by another player, \\nthe owner collects rent from you in accordance with the list printed on \\nits Title Deed card. \\nIf the property is mortgaged, no rent can be collected. When a \\nproperty is mortgaged, its Title Deed card is placed facedown in front \\nof the owner. \\n L \\nIt is an advantage to hold all the Title Deed cards in a color- \\ngroup (e.g., Boardwalk and Park Place; or Connecticut, Vermont and'),\n",
       " Document(metadata={'producer': 'Adobe Acrobat 7.0 Paper Capture Plug-in', 'creator': 'Adobe Acrobat 7.0', 'creationdate': '2007-05-03T12:38:10-04:00', 'moddate': '2007-05-03T12:52:41-04:00', 'source': 'data/monopoly.pdf', 'total_pages': 8, 'page': 3, 'page_label': '4'}, page_content='group (e.g., Boardwalk and Park Place; or Connecticut, Vermont and \\nOriental Avenues) because the owner may then charge double rent \\nfor unimproved properties in that color-group. This rule applies to \\nunmortgaged properties even if another property in that color-group is \\nmortgaged. \\nIt is even more advantageous to have houses or hotels on properties \\nbecause rents are much higher than for unimproved properties. \\nThe owner may not collect the rent if he/she fails to ask for it before \\nthe second player following throws the dice. \\n\"CHANCE\" AND \"COMMUNITY CHEST\": When you land on either of \\nthese spaces, take the top card from the deck indicated, follow the'),\n",
       " Document(metadata={'producer': 'Adobe Acrobat 7.0 Paper Capture Plug-in', 'creator': 'Adobe Acrobat 7.0', 'creationdate': '2007-05-03T12:38:10-04:00', 'moddate': '2007-05-03T12:52:41-04:00', 'source': 'data/monopoly.pdf', 'total_pages': 8, 'page': 4, 'page_label': '5'}, page_content='instructions and return the card facedown to the bottom of the deck. \\nThe \"Get Out of Jail Free\" card is held until used and then returned to \\nthe bottom of the deck. If the player who draws it does not wish to use \\nit, helshe may sell it, at any time, to another player at a price agreeable \\nto both. \\n\"INCOME TAX\": If you land here you have two options: You may \\nestimate your tax at $900 and pay the Bank, or you may pay 10% of \\nyour total worth to the Bank. Your total worth is all your cash on hand, \\nprinted prices of mortgaged and unmortgaged properties and cost \\nprice of all buildings you own. \\nYou must decide which option you will take before you add up \\nyour total worth. \\n\"JAIL\": You land in Jail when. ..(I) your token lands on the space'),\n",
       " Document(metadata={'producer': 'Adobe Acrobat 7.0 Paper Capture Plug-in', 'creator': 'Adobe Acrobat 7.0', 'creationdate': '2007-05-03T12:38:10-04:00', 'moddate': '2007-05-03T12:52:41-04:00', 'source': 'data/monopoly.pdf', 'total_pages': 8, 'page': 4, 'page_label': '5'}, page_content='\"JAIL\": You land in Jail when. ..(I) your token lands on the space \\nmarked \"Go to Jail\"; (2) you draw a card marked \"Go to JailN; or \\n(3) you throw doubles three times in succession. \\nWhen you are sent to Jail you cannot \\ncollect your $200 salary in that move \\nsince, regardless of where your token \\nis on the board, you must move it \\ndirectly into Jail. Your turn ends when \\nyou are sent to Jail. \\nIf you are not \"sent\" to Jail but in the ordinary course of play land on \\nthat space, you are \"Just Visiting,\" you incur no penalty, and you move \\nahead in the usual manner on your next turn. \\nYou get out of Jail by.. .(I) throwing doubles on any of your next \\nthree turns; if you succeed in doing this you immediately move forward \\nthe number of spaces shown by your doubles throw; even though you'),\n",
       " Document(metadata={'producer': 'Adobe Acrobat 7.0 Paper Capture Plug-in', 'creator': 'Adobe Acrobat 7.0', 'creationdate': '2007-05-03T12:38:10-04:00', 'moddate': '2007-05-03T12:52:41-04:00', 'source': 'data/monopoly.pdf', 'total_pages': 8, 'page': 4, 'page_label': '5'}, page_content='the number of spaces shown by your doubles throw; even though you \\nhad thrown doubles, you do not take another turn; (2) using the \"Get \\nOut of Jail Free\" card if you have it; (3) purchasing the \"Get Out of Jail \\nFree\" card from another player and playing it; (4) paying a fine of $50 \\nbefore you roll the dice on either of your next two turns. \\nIf you do not throw doubles by your third turn, you must pay the $50 \\nfine. You then get out of Jail and immediately move forward the number \\nof spaces shown by your throw. \\nEven though you are in Jail, you may buy and sell property, buy and \\nsell houses and hotels and collect rents.'),\n",
       " Document(metadata={'producer': 'Adobe Acrobat 7.0 Paper Capture Plug-in', 'creator': 'Adobe Acrobat 7.0', 'creationdate': '2007-05-03T12:38:10-04:00', 'moddate': '2007-05-03T12:52:41-04:00', 'source': 'data/monopoly.pdf', 'total_pages': 8, 'page': 5, 'page_label': '6'}, page_content='\"FREE PARKING\": A player landing on this place does not \\nreceive any money, property or reward of any kind. This is just a \"free\" \\nresting place. \\nHOUSES: When you own all the propert~es in a color-group \\nyou may buy houses from the Bank and erect them on those properties. \\nIf you buy one house, you may put it on any \\none of those properties. The next house you \\nbuy must be erected on one of the unimproved \\nproperties of this or any other complete color- \\ngroup you may own. \\nThe price you must pay the Bank for each \\nhouse is shown on your ltle Deed card for the \\nproperty on which you erect the house. \\nThe owner still collects double rent from an opponent who lands on \\nthe unimproved properties of hisher complete color-group. \\nFollowing the above rules, you may buy and erect at any time as'),\n",
       " Document(metadata={'producer': 'Adobe Acrobat 7.0 Paper Capture Plug-in', 'creator': 'Adobe Acrobat 7.0', 'creationdate': '2007-05-03T12:38:10-04:00', 'moddate': '2007-05-03T12:52:41-04:00', 'source': 'data/monopoly.pdf', 'total_pages': 8, 'page': 5, 'page_label': '6'}, page_content='Following the above rules, you may buy and erect at any time as \\nmany houses as your judgement and financial standing will allow. But \\nyou must build evenly, i.e., you cannot erect more than one house on \\nany one property of any color-group until you have built one house on \\nwery property of that group. You may then begin on the second row \\nof houses, and so on, up to a limit of four houses to a property. For \\nexample, you cannot build three houses on one property if you have \\nonly one house on another property of that group. \\nAs you build evenly, you must also break down evenly ifyou sell \\nhouses back to the Bank (see SELLING PROPERTY). \\nHOTELS: When a player has four houses on each property of a \\ncomplete color-group, hdshe may buy a hotel from the Bank and erect'),\n",
       " Document(metadata={'producer': 'Adobe Acrobat 7.0 Paper Capture Plug-in', 'creator': 'Adobe Acrobat 7.0', 'creationdate': '2007-05-03T12:38:10-04:00', 'moddate': '2007-05-03T12:52:41-04:00', 'source': 'data/monopoly.pdf', 'total_pages': 8, 'page': 5, 'page_label': '6'}, page_content='complete color-group, hdshe may buy a hotel from the Bank and erect \\nit on any property of the color-group. Hdshe returns the four houses \\nfrom that property to the Bank and pays the price for the hotel as shown \\non the Ttle Deed card. Only one hotel may be erected on any one \\nproperty. \\nBUILDING SHORTAGES: When the Bank has no houses to sell, players \\nwishing to build must wait for some player to return or sell histher \\nhouses to the Bank before building. If there are a limited number of \\nhouses and hotels available and two or more players wish to buy more \\nthan the Bank has, the houses or hotels must be sold at auction to the \\nhighest bidder.'),\n",
       " Document(metadata={'producer': 'Adobe Acrobat 7.0 Paper Capture Plug-in', 'creator': 'Adobe Acrobat 7.0', 'creationdate': '2007-05-03T12:38:10-04:00', 'moddate': '2007-05-03T12:52:41-04:00', 'source': 'data/monopoly.pdf', 'total_pages': 8, 'page': 6, 'page_label': '7'}, page_content='SELLING PROPERN: Unimproved properties, railroads and util~ties \\n(but not buildings) may be sold to any player as a private transaction \\nfor any amount the owner can get; however, no property can be sold to \\n- \\nanother player if buildings are standing on any properties of that color- \\ngroup. Any buildings so located must be sold back to the Bank before \\nthe owner can sell any property of that color-group. \\nHouses and hotels may be sold back to the Bank at any time for one- \\nhalf the price paid for them. \\nAll houses on one color-group must be sold one by one, evenly, in \\nreverse of the manner in which they were erected. \\nAll hotels on one color-group may be sold at once, or they may be \\nsold one house at a time (one hotel equals five houses), evenly, in'),\n",
       " Document(metadata={'producer': 'Adobe Acrobat 7.0 Paper Capture Plug-in', 'creator': 'Adobe Acrobat 7.0', 'creationdate': '2007-05-03T12:38:10-04:00', 'moddate': '2007-05-03T12:52:41-04:00', 'source': 'data/monopoly.pdf', 'total_pages': 8, 'page': 6, 'page_label': '7'}, page_content='sold one house at a time (one hotel equals five houses), evenly, in \\nreverse of the manner in which they were erected. \\nMORTGAGES: Unimproved properties can be mortgaged through the \\nBank at any time. Before an improved property can be mortgaged, all \\nthe buildings on all the properties of its color-group must be sold back \\nto the Bank at half price. The mortgage value is printed on each Title \\nDeed card. \\nNo rent can be collected on mortgaged properties or utilities, \\nbut rent can be collected on unmortgaged properties in the \\nsame group. \\nIn order to lift the mortgage, the owner must pay the Bank the \\namount of the mortgage plus 10% interest. When all the propert~es of \\na color-group are no longer mortgaged, the owner may begin to buy \\nback houses at full price.'),\n",
       " Document(metadata={'producer': 'Adobe Acrobat 7.0 Paper Capture Plug-in', 'creator': 'Adobe Acrobat 7.0', 'creationdate': '2007-05-03T12:38:10-04:00', 'moddate': '2007-05-03T12:52:41-04:00', 'source': 'data/monopoly.pdf', 'total_pages': 8, 'page': 6, 'page_label': '7'}, page_content='back houses at full price. \\nThe player who mortgages property retains possession of it and \\nno other player may secure it by lifting the mortgage from the Bank. \\nHowever, the owner may sell this mortgaged property to another player \\nat any agreed price. If you are the new owner, you may lift the mortgage \\nat once if you wish by paying off the mortgage plus \\n10% interest to the Bank. If the mortgage is not lifted \\nat once, you must pay the Bank 10% interest when \\nyou buy the property and if you lift the \\nmortgage later you must pay the Bank \\nan additional 10% interest as well \\nas the amount of the mortgage. \\nn'),\n",
       " Document(metadata={'producer': 'Adobe Acrobat 7.0 Paper Capture Plug-in', 'creator': 'Adobe Acrobat 7.0', 'creationdate': '2007-05-03T12:38:10-04:00', 'moddate': '2007-05-03T12:52:41-04:00', 'source': 'data/monopoly.pdf', 'total_pages': 8, 'page': 7, 'page_label': '8'}, page_content='BANKRUPTCY.. You are declared bankrupt if you owe more than you \\ncan pay either to another player or to the Bank. If your \\n , \\ndebt is to another player, you must tum over to that \\nplayer all that you have of value and retire from the \\ngame. In making this settlement, if you own houses or \\nhotels, you must retum these to the Bank in exchange \\nfor money to the extent of one-half the amount paid \\nfor them; this cash is given to the creditor. If you have \\nmortgaged property you also turn this property over \\nto your creditor but the new owner must at once pay . \\nthe Bank the amount of interest on the loan, which is 10% of the value of \\nthe property. The new owner who does this may then, at hislher option, \\npay the principal or hold the property until some later turn, then lift the'),\n",
       " Document(metadata={'producer': 'Adobe Acrobat 7.0 Paper Capture Plug-in', 'creator': 'Adobe Acrobat 7.0', 'creationdate': '2007-05-03T12:38:10-04:00', 'moddate': '2007-05-03T12:52:41-04:00', 'source': 'data/monopoly.pdf', 'total_pages': 8, 'page': 7, 'page_label': '8'}, page_content='pay the principal or hold the property until some later turn, then lift the \\nmortgage. If helshe holds property in this way until a later turn, helshe \\nmust pay the interest again upon lifting the mortgage. \\nShould you owe the Bank, instead of another player, more than you \\ncan pay (because of taxes or penalties) even by selling off buildings \\nand mortgaging property, you must turn over all assets to the Bank. In \\nthis case, the Bank immediately sells by auction all property so taken, \\nexcept buildings. A bankrupt player must immediately retire from the \\ngame. The last player left in the game wins. \\nMISCEUANEOUS: Money can be loaned to a player only by the Bank \\nand then only by mortgaging property. No player may borrow from or \\nlend money to another player. \\n L'),\n",
       " Document(metadata={'producer': 'Adobe Acrobat 7.0 Paper Capture Plug-in', 'creator': 'Adobe Acrobat 7.0', 'creationdate': '2007-05-03T12:38:10-04:00', 'moddate': '2007-05-03T12:52:41-04:00', 'source': 'data/monopoly.pdf', 'total_pages': 8, 'page': 7, 'page_label': '8'}, page_content='lend money to another player. \\n L \\nWe will be happy to hear your questions or comments about this game. Write to: Hasbro \\nGames, Consumer Affairs Dept., P.O. Box 200, Pawtucket, RI 02862. Tel: 888-836-7025 \\n(toll free). Canadian consumers please write to: Hasbro Canada Corporation, 2350 de la \\nProvince, Longueuil, QC Canada, J4G 1G2. \\nThe HASBRO, PARKER BROTHERS, and MONOPOLY names and logos, the distinctive design of \\nthe gameboard, the four comer squares, the MR. MONOPOLY name and character, and each of the \\ndistinctive elements of the board and rules are trademarks of Hasbro for its property trading game \\nand game equipment. 02004,2007 Hasbro, Pawtucket, RI 02862. \\nAll Rights Reserved. TM & @3 denote U.S. Trademarks. \\n00009-1 \\n PROOF OF PURCHASE I')]"
      ]
     },
     "execution_count": 73,
     "metadata": {},
     "output_type": "execute_result"
    }
   ],
   "source": [
    "chunk"
   ]
  },
  {
   "cell_type": "code",
   "execution_count": 75,
   "id": "74e97049",
   "metadata": {},
   "outputs": [
    {
     "data": {
      "text/plain": [
       "{'id': None,\n",
       " 'metadata': {'producer': 'Acrobat Distiller 9.5.5 (Macintosh)',\n",
       "  'creator': 'QuarkXPress 9.5.3.1',\n",
       "  'creationdate': '2015-03-09T10:16:51-07:00',\n",
       "  'author': 'cyrille',\n",
       "  'gts_pdfxversion': 'PDF/X-3:2002',\n",
       "  'moddate': '2015-05-18T11:25:26-07:00',\n",
       "  'title': '[T2R] rules EN reprint 2015_TTR2 rules US',\n",
       "  'trapped': '/False',\n",
       "  'source': 'data/ticket_to_ride.pdf',\n",
       "  'total_pages': 4,\n",
       "  'page': 0,\n",
       "  'page_label': '1'},\n",
       " 'page_content': 'O\\nn a blustery autumn evening five old friends met in the backroom of one of the city’s oldest and most private clubs. Each had\\ntraveled a long distance — from all corners of the world — to meet on this very specific day… October 2, 1900 — 28 years to the\\nday that the London eccentric, Phileas Fogg accepted and then won a £20,000 bet that he could travel Around the World in 80 Days . \\nWhen the story of Fogg’s triumphant journey filled all the newspapers of the day, the five attended University together. Inspired by\\nhis impetuous gamble, and a few pints from the local pub, the group commemorated his circumnavigation with a more modest excur-\\nsion and wager – a bottle of good claret to the first to make it to Le Procope in Paris.',\n",
       " 'type': 'Document'}"
      ]
     },
     "execution_count": 75,
     "metadata": {},
     "output_type": "execute_result"
    }
   ],
   "source": [
    "chunk[0].__dict__"
   ]
  },
  {
   "cell_type": "code",
   "execution_count": 40,
   "id": "a6b435a7",
   "metadata": {},
   "outputs": [
    {
     "name": "stdout",
     "output_type": "stream",
     "text": [
      "sion and wager – a bottle of good claret to the first to make it to Le Procope in Paris.\n",
      "Each succeeding year, they met to celebrate the anniversary and pay tribute to Fogg. And each year a new expedition (always mor e\n",
      "difficult) with a new wager (always more expensive) was proposed. Now at the dawn of the century it was time for a new impossi-\n",
      "ble journey. The stakes: $1 Million in a winner-takes-all competition. The objective: to see which of them could travel by rail to the\n",
      "most cities in North America — in just 7 days. The journey would begin immediately…\n",
      "Ticket to Ride is a cross-country train adventure. Players compete to connect different cities by laying claim to railway routes on a\n",
      "map of North America.\n",
      "For 2 - 5 players \n",
      "ages 8 and above\n",
      "30 - 60 minutes\n"
     ]
    }
   ],
   "source": [
    "print(chunk[1].page_content)"
   ]
  },
  {
   "cell_type": "code",
   "execution_count": 60,
   "id": "9c711016",
   "metadata": {},
   "outputs": [],
   "source": [
    "CHROMA_PATH = \"chroma\""
   ]
  },
  {
   "cell_type": "code",
   "execution_count": 61,
   "id": "6c16ed1e",
   "metadata": {},
   "outputs": [],
   "source": [
    "from langchain_ollama import OllamaEmbeddings\n",
    "\n",
    "\n",
    "def get_embedding_function():\n",
    "    embeddings = OllamaEmbeddings(model=\"nomic-embed-text\")\n",
    "    return embeddings"
   ]
  },
  {
   "cell_type": "code",
   "execution_count": 62,
   "id": "c8b67515",
   "metadata": {},
   "outputs": [],
   "source": [
    "from langchain_chroma import Chroma"
   ]
  },
  {
   "cell_type": "code",
   "execution_count": 63,
   "id": "72f990c5",
   "metadata": {},
   "outputs": [],
   "source": [
    "db = Chroma(\n",
    "        persist_directory=CHROMA_PATH, embedding_function=get_embedding_function()\n",
    "    )"
   ]
  },
  {
   "cell_type": "code",
   "execution_count": 68,
   "id": "36ecaa39",
   "metadata": {},
   "outputs": [],
   "source": [
    "exist = db.get(include=[])"
   ]
  },
  {
   "cell_type": "code",
   "execution_count": 72,
   "id": "ae0cb0a1",
   "metadata": {},
   "outputs": [
    {
     "data": {
      "text/plain": [
       "['data/ticket_to_ride.pdf:0:0',\n",
       " 'data/ticket_to_ride.pdf:0:1',\n",
       " 'data/ticket_to_ride.pdf:1:0',\n",
       " 'data/ticket_to_ride.pdf:1:1',\n",
       " 'data/ticket_to_ride.pdf:1:2',\n",
       " 'data/ticket_to_ride.pdf:1:3',\n",
       " 'data/ticket_to_ride.pdf:2:0',\n",
       " 'data/ticket_to_ride.pdf:2:1',\n",
       " 'data/ticket_to_ride.pdf:2:2',\n",
       " 'data/ticket_to_ride.pdf:2:3',\n",
       " 'data/ticket_to_ride.pdf:2:4',\n",
       " 'data/ticket_to_ride.pdf:2:5',\n",
       " 'data/ticket_to_ride.pdf:3:0',\n",
       " 'data/ticket_to_ride.pdf:3:1',\n",
       " 'data/ticket_to_ride.pdf:3:2',\n",
       " 'data/ticket_to_ride.pdf:3:3',\n",
       " 'data/ticket_to_ride.pdf:3:4',\n",
       " 'data/monopoly.pdf:0:0',\n",
       " 'data/monopoly.pdf:0:1',\n",
       " 'data/monopoly.pdf:1:0',\n",
       " 'data/monopoly.pdf:1:1',\n",
       " 'data/monopoly.pdf:1:2',\n",
       " 'data/monopoly.pdf:2:0',\n",
       " 'data/monopoly.pdf:2:1',\n",
       " 'data/monopoly.pdf:2:2',\n",
       " 'data/monopoly.pdf:3:0',\n",
       " 'data/monopoly.pdf:3:1',\n",
       " 'data/monopoly.pdf:3:2',\n",
       " 'data/monopoly.pdf:4:0',\n",
       " 'data/monopoly.pdf:4:1',\n",
       " 'data/monopoly.pdf:4:2',\n",
       " 'data/monopoly.pdf:5:0',\n",
       " 'data/monopoly.pdf:5:1',\n",
       " 'data/monopoly.pdf:5:2',\n",
       " 'data/monopoly.pdf:6:0',\n",
       " 'data/monopoly.pdf:6:1',\n",
       " 'data/monopoly.pdf:6:2',\n",
       " 'data/monopoly.pdf:7:0',\n",
       " 'data/monopoly.pdf:7:1',\n",
       " 'data/monopoly.pdf:7:2']"
      ]
     },
     "execution_count": 72,
     "metadata": {},
     "output_type": "execute_result"
    }
   ],
   "source": [
    "exist[\"ids\"]"
   ]
  },
  {
   "cell_type": "code",
   "execution_count": 76,
   "id": "86066415",
   "metadata": {},
   "outputs": [],
   "source": [
    "def calculate_chunk_ids(chunks):\n",
    "\n",
    "    # This will create IDs like \"data/monopoly.pdf:6:2\" 表示monopoly这个pdf的第六页中的第3个chunk\n",
    "    # Page Source : Page Number : Chunk Index\n",
    "\n",
    "    last_page_id = None\n",
    "    current_chunk_index = 0\n",
    "\n",
    "    for chunk in chunks:\n",
    "        source = chunk.metadata.get(\"source\")\n",
    "        page = chunk.metadata.get(\"page\")\n",
    "        current_page_id = f\"{source}:{page}\"\n",
    "\n",
    "        # If the page ID is the same as the last one, increment the index.\n",
    "        if current_page_id == last_page_id:\n",
    "            current_chunk_index += 1\n",
    "        else:\n",
    "            current_chunk_index = 0\n",
    "\n",
    "        # Calculate the chunk ID.\n",
    "        chunk_id = f\"{current_page_id}:{current_chunk_index}\"\n",
    "        last_page_id = current_page_id\n",
    "\n",
    "        # Add it to the page meta-data.\n",
    "        ## 在metadata字典中添加一个id键\n",
    "        chunk.metadata[\"id\"] = chunk_id\n",
    "\n",
    "    return chunks"
   ]
  },
  {
   "cell_type": "code",
   "execution_count": 77,
   "id": "a9a28f82",
   "metadata": {},
   "outputs": [],
   "source": [
    "chunk_with_id = calculate_chunk_ids(chunk)"
   ]
  },
  {
   "cell_type": "code",
   "execution_count": 80,
   "id": "82ff519b",
   "metadata": {},
   "outputs": [
    {
     "data": {
      "text/plain": [
       "{'id': None,\n",
       " 'metadata': {'producer': 'Acrobat Distiller 9.5.5 (Macintosh)',\n",
       "  'creator': 'QuarkXPress 9.5.3.1',\n",
       "  'creationdate': '2015-03-09T10:16:51-07:00',\n",
       "  'author': 'cyrille',\n",
       "  'gts_pdfxversion': 'PDF/X-3:2002',\n",
       "  'moddate': '2015-05-18T11:25:26-07:00',\n",
       "  'title': '[T2R] rules EN reprint 2015_TTR2 rules US',\n",
       "  'trapped': '/False',\n",
       "  'source': 'data/ticket_to_ride.pdf',\n",
       "  'total_pages': 4,\n",
       "  'page': 0,\n",
       "  'page_label': '1',\n",
       "  'id': 'data/ticket_to_ride.pdf:0:0'},\n",
       " 'page_content': 'O\\nn a blustery autumn evening five old friends met in the backroom of one of the city’s oldest and most private clubs. Each had\\ntraveled a long distance — from all corners of the world — to meet on this very specific day… October 2, 1900 — 28 years to the\\nday that the London eccentric, Phileas Fogg accepted and then won a £20,000 bet that he could travel Around the World in 80 Days . \\nWhen the story of Fogg’s triumphant journey filled all the newspapers of the day, the five attended University together. Inspired by\\nhis impetuous gamble, and a few pints from the local pub, the group commemorated his circumnavigation with a more modest excur-\\nsion and wager – a bottle of good claret to the first to make it to Le Procope in Paris.',\n",
       " 'type': 'Document'}"
      ]
     },
     "execution_count": 80,
     "metadata": {},
     "output_type": "execute_result"
    }
   ],
   "source": [
    "chunk_with_id[0].__dict__"
   ]
  },
  {
   "cell_type": "code",
   "execution_count": 81,
   "id": "e8be9202",
   "metadata": {},
   "outputs": [],
   "source": [
    "from uuid import uuid4\n",
    "\n",
    "from langchain_core.documents import Document\n",
    "\n",
    "document_1 = Document(\n",
    "    page_content=\"I had chocolate chip pancakes and scrambled eggs for breakfast this morning.\",\n",
    "    metadata={\"source\": \"tweet\"},\n",
    "    id=1,\n",
    ")\n",
    "\n",
    "document_2 = Document(\n",
    "    page_content=\"The weather forecast for tomorrow is cloudy and overcast, with a high of 62 degrees.\",\n",
    "    metadata={\"source\": \"news\"},\n",
    "    id=2,\n",
    ")\n",
    "\n",
    "document_3 = Document(\n",
    "    page_content=\"Building an exciting new project with LangChain - come check it out!\",\n",
    "    metadata={\"source\": \"tweet\"},\n",
    "    id=3,\n",
    ")\n",
    "\n",
    "document_4 = Document(\n",
    "    page_content=\"Robbers broke into the city bank and stole $1 million in cash.\",\n",
    "    metadata={\"source\": \"news\"},\n",
    "    id=4,\n",
    ")\n",
    "\n",
    "document_5 = Document(\n",
    "    page_content=\"Wow! That was an amazing movie. I can't wait to see it again.\",\n",
    "    metadata={\"source\": \"tweet\"},\n",
    "    id=5,\n",
    ")\n",
    "\n",
    "document_6 = Document(\n",
    "    page_content=\"Is the new iPhone worth the price? Read this review to find out.\",\n",
    "    metadata={\"source\": \"website\"},\n",
    "    id=6,\n",
    ")\n",
    "\n",
    "document_7 = Document(\n",
    "    page_content=\"The top 10 soccer players in the world right now.\",\n",
    "    metadata={\"source\": \"website\"},\n",
    "    id=7,\n",
    ")\n",
    "\n",
    "document_8 = Document(\n",
    "    page_content=\"LangGraph is the best framework for building stateful, agentic applications!\",\n",
    "    metadata={\"source\": \"tweet\"},\n",
    "    id=8,\n",
    ")\n",
    "\n",
    "document_9 = Document(\n",
    "    page_content=\"The stock market is down 500 points today due to fears of a recession.\",\n",
    "    metadata={\"source\": \"news\"},\n",
    "    id=9,\n",
    ")\n",
    "\n",
    "document_10 = Document(\n",
    "    page_content=\"I have a bad feeling I am going to get deleted :(\",\n",
    "    metadata={\"source\": \"tweet\"},\n",
    "    id=10,\n",
    ")\n",
    "\n",
    "documents = [\n",
    "    document_1,\n",
    "    document_2,\n",
    "    document_3,\n",
    "    document_4,\n",
    "    document_5,\n",
    "    document_6,\n",
    "    document_7,\n",
    "    document_8,\n",
    "    document_9,\n",
    "    document_10,\n",
    "]\n",
    "uuids = [str(uuid4()) for _ in range(len(documents))]\n",
    "\n",
    "# vector_store.add_documents(documents=documents, ids=uuids)"
   ]
  },
  {
   "cell_type": "code",
   "execution_count": 82,
   "id": "8e6c2458",
   "metadata": {},
   "outputs": [
    {
     "data": {
      "text/plain": [
       "['4d3852a8-f118-4a29-9bc3-5b2cdd60123a',\n",
       " '60d6775c-effa-45d2-af43-79136b000a16',\n",
       " 'eec96f22-e069-4a31-a204-1b0fe60f34fd',\n",
       " 'd36408cc-229c-4875-a63a-00d7dcf70252',\n",
       " 'd8d6c23b-dcc5-450e-b3ee-14e6fa71b3e3',\n",
       " '21b35aaf-d966-499b-a3d5-bc931dd6ee26',\n",
       " '3cd3d6cc-6f66-47b2-98ad-eb5d76b91008',\n",
       " '7bbcc7a2-9132-4bc3-9342-715beba3f11d',\n",
       " '85bc4eda-8295-46ff-bf79-1d88c9f9d765',\n",
       " 'f39d9716-34c9-41cb-bc72-bd0a35f0cacb']"
      ]
     },
     "execution_count": 82,
     "metadata": {},
     "output_type": "execute_result"
    }
   ],
   "source": [
    "uuids"
   ]
  },
  {
   "cell_type": "code",
   "execution_count": null,
   "id": "460bae78",
   "metadata": {},
   "outputs": [],
   "source": []
  }
 ],
 "metadata": {
  "kernelspec": {
   "display_name": "RAG",
   "language": "python",
   "name": "python3"
  },
  "language_info": {
   "codemirror_mode": {
    "name": "ipython",
    "version": 3
   },
   "file_extension": ".py",
   "mimetype": "text/x-python",
   "name": "python",
   "nbconvert_exporter": "python",
   "pygments_lexer": "ipython3",
   "version": "3.10.0"
  }
 },
 "nbformat": 4,
 "nbformat_minor": 5
}
